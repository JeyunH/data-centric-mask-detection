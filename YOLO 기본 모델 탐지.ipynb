{
 "cells": [
  {
   "cell_type": "code",
   "execution_count": null,
   "id": "29acde0b-f5c0-4ecc-9d8a-eb59bbeac1d6",
   "metadata": {},
   "outputs": [],
   "source": [
    "!pip install requests"
   ]
  },
  {
   "cell_type": "code",
   "execution_count": null,
   "id": "092e1f29-5edb-4b85-888a-614d3b4dbe58",
   "metadata": {},
   "outputs": [],
   "source": [
    "import requests"
   ]
  },
  {
   "cell_type": "code",
   "execution_count": null,
   "id": "0ecd8bad-9e11-493e-8598-a8c6dddce967",
   "metadata": {},
   "outputs": [],
   "source": [
    "url =\"https://dimg.donga.com/wps/NEWS/IMAGE/2021/03/13/105861174.3.jpg\""
   ]
  },
  {
   "cell_type": "code",
   "execution_count": null,
   "id": "240793d1-80ee-485c-a41c-e94d44e2e966",
   "metadata": {},
   "outputs": [],
   "source": [
    "response = requests.get(url)\n",
    "\n",
    "response"
   ]
  },
  {
   "cell_type": "code",
   "execution_count": null,
   "id": "7b77e194-a24d-4faf-921f-22ea0087deb0",
   "metadata": {},
   "outputs": [],
   "source": [
    "with open(\"down.jpg\",\"wb\") as f:\n",
    "    f.write(response.content)"
   ]
  },
  {
   "cell_type": "code",
   "execution_count": null,
   "id": "73d5b018-e277-4ecb-8a61-8eb9da5c6e0f",
   "metadata": {},
   "outputs": [],
   "source": [
    "from ultralytics import YOLO"
   ]
  },
  {
   "cell_type": "code",
   "execution_count": null,
   "id": "58d7b8a2-d9e3-4cc7-b93a-5b02da0eeed3",
   "metadata": {},
   "outputs": [],
   "source": [
    "model = YOLO(\"yolov8m.pt\")\n",
    "model"
   ]
  },
  {
   "cell_type": "code",
   "execution_count": null,
   "id": "65edfdd3-493e-412b-9a34-775c96961ee5",
   "metadata": {},
   "outputs": [],
   "source": [
    "import cv2"
   ]
  },
  {
   "cell_type": "code",
   "execution_count": null,
   "id": "991e56ee-cf0f-415e-a314-77485b1e8959",
   "metadata": {},
   "outputs": [],
   "source": [
    "img = cv2.imread(\"down.jpg\")\n",
    "\n",
    "img"
   ]
  },
  {
   "cell_type": "code",
   "execution_count": null,
   "id": "211f8261-b7cc-4bc0-8095-78bf0d98dcff",
   "metadata": {},
   "outputs": [],
   "source": [
    "import matplotlib.pyplot as plt"
   ]
  },
  {
   "cell_type": "code",
   "execution_count": null,
   "id": "d9587174-b6bb-4bf3-9b25-2dba8bcdd17b",
   "metadata": {},
   "outputs": [],
   "source": [
    "plt.imshow(cv2.cvtColor(img, cv2.COLOR_BGR2RGB))"
   ]
  },
  {
   "cell_type": "code",
   "execution_count": null,
   "id": "1cfeaf6f-9df5-46d3-946b-5c86eb6c7a16",
   "metadata": {},
   "outputs": [],
   "source": [
    "results = model(img)\n",
    "\n",
    "results"
   ]
  },
  {
   "cell_type": "code",
   "execution_count": null,
   "id": "603753ee-f906-4b20-b9dc-605c84f0cdec",
   "metadata": {},
   "outputs": [],
   "source": [
    "result_img = results[0].plot()\n",
    "\n",
    "result_img"
   ]
  },
  {
   "cell_type": "code",
   "execution_count": null,
   "id": "b003dc07-c332-4d1c-bfb6-1299f4a69c3a",
   "metadata": {},
   "outputs": [],
   "source": [
    "cv2.imshow(\"탐지 이미지\",result_img)\n",
    "cv2.waitKey(0)"
   ]
  },
  {
   "cell_type": "code",
   "execution_count": null,
   "id": "ab9ba6b4-840b-48e8-8912-642fa9d9d8d2",
   "metadata": {},
   "outputs": [],
   "source": []
  }
 ],
 "metadata": {
  "kernelspec": {
   "display_name": "Python 3 (ipykernel)",
   "language": "python",
   "name": "python3"
  },
  "language_info": {
   "codemirror_mode": {
    "name": "ipython",
    "version": 3
   },
   "file_extension": ".py",
   "mimetype": "text/x-python",
   "name": "python",
   "nbconvert_exporter": "python",
   "pygments_lexer": "ipython3",
   "version": "3.11.0"
  }
 },
 "nbformat": 4,
 "nbformat_minor": 5
}
