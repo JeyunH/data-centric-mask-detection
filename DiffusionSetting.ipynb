{
 "cells": [
  {
   "cell_type": "code",
   "execution_count": null,
   "id": "4f5d75ba-2bb6-4c50-947d-97d6be9f8923",
   "metadata": {},
   "outputs": [],
   "source": [
    "import torch\n",
    "import torchvision\n",
    "import torchaudio\n",
    "torch.cuda.is_available()"
   ]
  },
  {
   "cell_type": "code",
   "execution_count": null,
   "id": "01292a62-7e9c-45cc-aa32-964effd07200",
   "metadata": {},
   "outputs": [],
   "source": [
    "import xformers\n",
    "xformers.__version__"
   ]
  },
  {
   "cell_type": "code",
   "execution_count": null,
   "id": "2188330e-f13b-4225-8e53-7799667f8d95",
   "metadata": {},
   "outputs": [],
   "source": [
    "from diffusers import StableDiffusionPipeline\n",
    "huggingface_token = \"INPUT_YOUR_TOKEN\"\n",
    "StableDiffusionPipeline.from_pretrained(\n",
    "    \"Lykon/dreamshaper-8\",\n",
    "    torch_dtype=torch.float16,\n",
    "    use_auth_token=huggingface_token,\n",
    "    use_safetensor=True).to(\"cuda\")"
   ]
  },
  {
   "cell_type": "code",
   "execution_count": null,
   "id": "dba6dd4c-7103-485b-8409-c8352b86b804",
   "metadata": {},
   "outputs": [],
   "source": [
    "pipe.enable_xformers_memory_efficient_attention()\n",
    "output_dir = Path(\"test\")\n"
   ]
  }
 ],
 "metadata": {
  "kernelspec": {
   "display_name": "Python 3 (ipykernel)",
   "language": "python",
   "name": "python3"
  },
  "language_info": {
   "codemirror_mode": {
    "name": "ipython",
    "version": 3
   },
   "file_extension": ".py",
   "mimetype": "text/x-python",
   "name": "python",
   "nbconvert_exporter": "python",
   "pygments_lexer": "ipython3",
   "version": "3.11.0"
  }
 },
 "nbformat": 4,
 "nbformat_minor": 5
}
