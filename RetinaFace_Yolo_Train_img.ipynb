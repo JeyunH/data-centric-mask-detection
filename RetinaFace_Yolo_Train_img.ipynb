{
 "cells": [
  {
   "cell_type": "code",
   "execution_count": null,
   "id": "bf82b30f-c0d1-4418-828f-f6d204acce26",
   "metadata": {},
   "outputs": [],
   "source": [
    "!pip uninstall ultralytics -y"
   ]
  },
  {
   "cell_type": "code",
   "execution_count": null,
   "id": "46e5f4df-56d2-4803-ae26-0cb47ecd59ff",
   "metadata": {},
   "outputs": [],
   "source": [
    "!pip uninstall ultralytics-thop -y"
   ]
  },
  {
   "cell_type": "code",
   "execution_count": null,
   "id": "2698e4de-28fb-4c1a-a0d4-e699b6a3cef2",
   "metadata": {},
   "outputs": [],
   "source": [
    "!pip uninstall numpy -y"
   ]
  },
  {
   "cell_type": "code",
   "execution_count": null,
   "id": "15d1e94d-1824-4807-88bf-a4143a9285f4",
   "metadata": {},
   "outputs": [],
   "source": [
    "!pip install numpy==1.26.4"
   ]
  },
  {
   "cell_type": "code",
   "execution_count": null,
   "id": "35743218-0b1d-42e0-be65-61b146c11138",
   "metadata": {},
   "outputs": [],
   "source": [
    "!pip install ultralytics"
   ]
  },
  {
   "cell_type": "code",
   "execution_count": null,
   "id": "18e4ccc9-bb17-4712-914e-e41246efe1af",
   "metadata": {},
   "outputs": [],
   "source": [
    "!pip uninstall torch torchvision torchaudio -y\n",
    "!pip install torch==2.4.0 torchvision==0.19.0 torchaudio==2.4.0 --index-url https://download.pytorch.org/whl/cu118"
   ]
  },
  {
   "cell_type": "code",
   "execution_count": null,
   "id": "fa84f8f4-5fc1-40b1-9a26-b11c4a37b4d3",
   "metadata": {},
   "outputs": [],
   "source": [
    "import torch\n",
    "print(torch.cuda.is_available())"
   ]
  },
  {
   "cell_type": "code",
   "execution_count": null,
   "id": "40c192db-07c8-4340-88b8-f2274b922da2",
   "metadata": {},
   "outputs": [],
   "source": [
    "!pip install scikit-learn"
   ]
  },
  {
   "cell_type": "code",
   "execution_count": null,
   "id": "60ea8f59-887e-4dca-836e-0a9f5052f573",
   "metadata": {},
   "outputs": [],
   "source": [
    "import os\n",
    "import shutil\n",
    "from sklearn.model_selection import train_test_split\n",
    "from ultralytics import YOLO"
   ]
  },
  {
   "cell_type": "code",
   "execution_count": null,
   "id": "6f28d677-afe0-4443-aefa-0471cf7e2f24",
   "metadata": {},
   "outputs": [],
   "source": [
    "dataset_dir = r\"C:\\ai_project01\\mask_yolo_dataset\"\n",
    "if os.path.exists(dataset_dir):\n",
    "    shutil.rmtree(dataset_dir)\n",
    "    print(f\"기존 폴더 삭제: {dataset_dir}\")\n",
    "image_train_dir = os.path.join(dataset_dir, \"images/train\")\n",
    "image_val_dir = os.path.join(dataset_dir, \"images/val\")\n",
    "label_train_dir = os.path.join(dataset_dir, \"labels/train\")\n",
    "label_val_dir = os.path.join(dataset_dir, \"labels/val\")\n",
    "for d in [image_train_dir, image_val_dir, label_train_dir, label_val_dir]:\n",
    "    os.makedirs(d, exist_ok=True)\n",
    "image_src_dir = r\"C:\\ai_project01\\mask_images\"\n",
    "label_src_dir = r\"C:\\ai_project01\\labels\"\n",
    "image_files=[]\n",
    "for subdir in ['mask_on', 'no_mask']:\n",
    "    subdir_path = os.path.join(image_src_dir, subdir)\n",
    "    for f in os.listdir(subdir_path):\n",
    "        if f.lower().endswith(('jpg', 'png', 'jpeg')):\n",
    "            full_file_path=os.path.join(subdir_path, f)\n",
    "            image_files.append(full_file_path)\n",
    "train_files, val_files = train_test_split(image_files, test_size=0.2, random_state=42)\n",
    "def move_files(files, image_dest, label_dest):\n",
    "    for img_path in files:\n",
    "        filename = os.path.basename(img_path)\n",
    "        label_name = os.path.splitext(filename)[0] + '.txt'\n",
    "        label_path = os.path.join(label_src_dir, label_name)\n",
    "        if os.path.exists(label_path):\n",
    "            shutil.copy2(img_path, image_dest)\n",
    "            shutil.copy2(label_path, label_dest)\n",
    "        else:\n",
    "            print(f\" !! 라벨 파일을 찾을 수 없습니다 : {img_path}\")\n",
    "move_files(train_files, image_train_dir, label_train_dir)\n",
    "move_files(val_files, image_val_dir, label_val_dir)\n",
    "print(\"데이터 분할 및 파일 이동이 모두 완료되었습니다!\")"
   ]
  },
  {
   "cell_type": "code",
   "execution_count": null,
   "id": "ff682a94-6444-4f78-a4a9-24182884d842",
   "metadata": {},
   "outputs": [],
   "source": [
    "data_yaml_path = os.path.join(dataset_dir, \"data.yaml\")\n",
    "yaml_content = f\"\"\"\n",
    "train : C:/ai_project01/mask_yolo_dataset/images/train\n",
    "val : C:/ai_project01/mask_yolo_dataset/images/val\n",
    "\n",
    "names:\n",
    "  0: mask_on\n",
    "  1: no_mask\n",
    "\n",
    "nc: 2\n",
    "\"\"\"\n",
    "\n",
    "with open(data_yaml_path, 'w') as file:\n",
    "    file.write(yaml_content.strip())\n",
    "\n",
    "print(f\" data.yaml 생성 완료 : {data_yaml_path}\")\n"
   ]
  },
  {
   "cell_type": "code",
   "execution_count": null,
   "id": "0fff9e98-6ff7-486b-97a9-0ca34cd9a293",
   "metadata": {},
   "outputs": [],
   "source": [
    "model = YOLO('yolov8m.pt')\n",
    "results = model.train(\n",
    "    data=data_yaml_path,\n",
    "    epochs=1000,\n",
    "    imgsz=640,\n",
    "    batch=16,\n",
    "    name='mask_detection',\n",
    "    project='C:/ai_project01/results',\n",
    "    exist_ok=True,\n",
    "    patience=30\n",
    ")\n",
    "print(\"\\n 학습 완료!\")"
   ]
  }
 ],
 "metadata": {
  "kernelspec": {
   "display_name": "Python 3 (ipykernel)",
   "language": "python",
   "name": "python3"
  },
  "language_info": {
   "codemirror_mode": {
    "name": "ipython",
    "version": 3
   },
   "file_extension": ".py",
   "mimetype": "text/x-python",
   "name": "python",
   "nbconvert_exporter": "python",
   "pygments_lexer": "ipython3",
   "version": "3.11.0"
  }
 },
 "nbformat": 4,
 "nbformat_minor": 5
}
