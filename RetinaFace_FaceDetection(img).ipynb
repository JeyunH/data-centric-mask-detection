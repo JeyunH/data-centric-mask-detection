{
 "cells": [
  {
   "cell_type": "code",
   "execution_count": null,
   "id": "7c06fd99-115a-430d-93df-26dcd257cfad",
   "metadata": {},
   "outputs": [],
   "source": [
    "!pip install opencv-python matplotlib"
   ]
  },
  {
   "cell_type": "code",
   "execution_count": null,
   "id": "ad2c4e7c-63e3-4d29-a077-01c4c17de2f7",
   "metadata": {},
   "outputs": [],
   "source": [
    "import sys\n",
    "sys.path.append(r'c:\\ai_project01\\Pytorch_Retinaface')"
   ]
  },
  {
   "cell_type": "code",
   "execution_count": null,
   "id": "61e47b77-0f4a-4713-9523-0087f4dc0e4a",
   "metadata": {},
   "outputs": [],
   "source": [
    "import torch\n",
    "import cv2\n",
    "import numpy as np\n",
    "from models.retinaface import RetinaFace\n",
    "from data import cfg_re50\n",
    "from layers.functions.prior_box import PriorBox\n",
    "from utils.nms.py_cpu_nms import py_cpu_nms\n",
    "from utils.box_utils import decode\n",
    "torch.cuda.is_available()"
   ]
  },
  {
   "cell_type": "code",
   "execution_count": null,
   "id": "afc08015-078b-45cf-9a23-88730ae0fbec",
   "metadata": {},
   "outputs": [],
   "source": [
    "device = \"cuda\"\n",
    "cfg = cfg_re50\n",
    "net = RetinaFace(cfg=cfg, phase='test').to(device)\n",
    "pretrained_path=r'C:\\ai_project01\\Pytorch_Retinaface\\weights\\Resnet50_Final.pth'\n",
    "state_dict = torch.load(pretrained_path, map_location=device, weights_only=True)\n",
    "new_state_dict={}\n",
    "for k,v in state_dict.items():\n",
    "    if k.startswith(\"module.\"):\n",
    "        new_state_dict[k[7:]] = v\n",
    "    else:\n",
    "        new_state_dict[k] = v\n",
    "net.load_state_dict(new_state_dict, strict = True)"
   ]
  },
  {
   "cell_type": "code",
   "execution_count": null,
   "id": "a3387b20-af52-40a3-941c-1364612d055b",
   "metadata": {},
   "outputs": [],
   "source": [
    "net.eval()\n",
    "image_path = r'C:\\ai_project01\\mask_images\\no_mask\\no_mask_00000.png'\n",
    "img_raw = cv2.imread(image_path, cv2.IMREAD_COLOR)\n",
    "img = np.float32(img_raw)\n",
    "im_height, im_width, _ = img.shape\n",
    "scale = torch.Tensor([im_width, im_height, im_width, im_height]).to(device)\n",
    "img -= (104, 117, 123)\n",
    "img = img.transpose(2,0,1)\n",
    "img = torch.from_numpy(img).unsqueeze(0).to(device)\n",
    "loc, conf, landms = net(img)\n",
    "priorbox = PriorBox(cfg, image_size = (im_height, im_width))\n",
    "priors = priorbox.forward().to(device)\n",
    "prior_data = priors.data\n",
    "boxes = decode(loc.data.squeeze(0), prior_data, cfg['variance'])\n",
    "boxes = boxes * scale\n",
    "scores = conf.squeeze(0).data.cpu().numpy()[:,1]\n",
    "confidence_threshold = 0.5\n",
    "top_indices = np.where(scores>confidence_threshold)[0]\n",
    "boxes = boxes[top_indices]\n",
    "scores = scores[top_indices]\n",
    "dets = np.hstack((boxes.cpu().numpy(), scores[:, np.newaxis])).astype(np.float32, copy=False)\n",
    "keep = py_cpu_nms(dets, 0.3)\n",
    "dets = dets[keep, :]"
   ]
  },
  {
   "cell_type": "code",
   "execution_count": null,
   "id": "cc6affd1-7a82-4009-9368-86e35f72b5e1",
   "metadata": {},
   "outputs": [],
   "source": [
    "for b in dets:\n",
    "    if b[4] < confidence_threshold:\n",
    "        continue\n",
    "\n",
    "    text = \"{:.2f}\".format(b[4])\n",
    "    b=list(map(int,b))\n",
    "    cv2.rectangle(img_raw, (b[0], b[1]), (b[2], b[3]), (0,255,0), 2)\n",
    "    cx, cy = b[0], b[1] + 12\n",
    "    cv2.putText(img_raw, text, (cx,cy), cv2.FONT_HERSHEY_DUPLEX, 0.5, (255,255,255))\n",
    "cv2.imshow('RetinaFace PyTorch Detection', img_raw)\n",
    "cv2.waitKey(0)\n",
    "cv2.destroyAllWindows()"
   ]
  },
  {
   "cell_type": "code",
   "execution_count": null,
   "id": "2ba79ffd-cb08-48d7-9719-baaaa04b3883",
   "metadata": {},
   "outputs": [],
   "source": [
    "import time\n",
    "import os\n",
    "\n",
    "folder_path = r'C:\\ai_project01\\mask_images\\mask_on'\n",
    "image_files = sorted([f for f in os.listdir(folder_path) if f.endswith('.png')])\n",
    "\n",
    "while True:\n",
    "    for file_name in image_files:\n",
    "        image_path = os.path.join(folder_path, file_name)\n",
    "        img_raw = cv2.imread(image_path)\n",
    "        if img_raw is None:\n",
    "            continue\n",
    "\n",
    "        # 전처리 및 얼굴 검출\n",
    "        img = np.float32(img_raw)\n",
    "        im_height, im_width, _ = img.shape\n",
    "        scale = torch.Tensor([im_width, im_height, im_width, im_height]).to(device)\n",
    "        img -= (104, 117, 123)\n",
    "        img = img.transpose(2,0,1)\n",
    "        img = torch.from_numpy(img).unsqueeze(0).to(device)\n",
    "\n",
    "        with torch.no_grad():\n",
    "            loc, conf, landms = net(img)\n",
    "\n",
    "        priorbox = PriorBox(cfg, image_size=(im_height, im_width))\n",
    "        priors = priorbox.forward().to(device)\n",
    "        prior_data = priors.data\n",
    "        boxes = decode(loc.data.squeeze(0), prior_data, cfg['variance'])\n",
    "\n",
    "        scores = conf.squeeze(0).data.cpu().numpy()[:,1]\n",
    "        confidence_threshold = 0.5\n",
    "        top_indices = np.where(scores > confidence_threshold)[0]\n",
    "\n",
    "        boxes = boxes[top_indices] * scale\n",
    "        boxes = boxes.cpu().numpy()\n",
    "        scores = scores[top_indices]\n",
    "\n",
    "        dets = np.hstack((boxes, scores[:, np.newaxis])).astype(np.float32, copy=False)\n",
    "        keep = py_cpu_nms(dets, 0.3)\n",
    "        dets = dets[keep, :]\n",
    "\n",
    "        for b in dets:\n",
    "            if b[4] < confidence_threshold:\n",
    "                continue\n",
    "            text = \"{:.2f}\".format(b[4])\n",
    "            b = list(map(int, b))\n",
    "            cv2.rectangle(img_raw, (b[0], b[1]), (b[2], b[3]), (0,255,0), 2)\n",
    "            cv2.putText(img_raw, text, (b[0], b[1]+12), cv2.FONT_HERSHEY_DUPLEX, 0.5, (255,255,255))\n",
    "\n",
    "        cv2.imshow('RetinaFace Detection', img_raw)\n",
    "        key = cv2.waitKey(500) & 0xFF  # 1초 대기\n",
    "\n",
    "        if key == ord('q'):\n",
    "            cv2.destroyAllWindows()\n",
    "            break\n",
    "    else:\n",
    "        continue  # 안쪽 for문 정상 종료 → 다시 처음부터 반복\n",
    "    break  # q 눌러서 종료했을 때 while도 빠져나감\n",
    "\n"
   ]
  }
 ],
 "metadata": {
  "kernelspec": {
   "display_name": "Python 3 (ipykernel)",
   "language": "python",
   "name": "python3"
  },
  "language_info": {
   "codemirror_mode": {
    "name": "ipython",
    "version": 3
   },
   "file_extension": ".py",
   "mimetype": "text/x-python",
   "name": "python",
   "nbconvert_exporter": "python",
   "pygments_lexer": "ipython3",
   "version": "3.11.0"
  }
 },
 "nbformat": 4,
 "nbformat_minor": 5
}
