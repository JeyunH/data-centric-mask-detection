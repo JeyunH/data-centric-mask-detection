{
 "cells": [
  {
   "cell_type": "code",
   "execution_count": null,
   "id": "88ff020d-e826-4d9a-a2ea-df68e8f2e9c4",
   "metadata": {},
   "outputs": [],
   "source": [
    "import cv2\n",
    "from ultralytics import YOLO"
   ]
  },
  {
   "cell_type": "code",
   "execution_count": null,
   "id": "8386ed98-abf6-4ed1-bc10-a79935cf958e",
   "metadata": {},
   "outputs": [],
   "source": [
    "model = YOLO(\"yolov8x.pt\")\n",
    "\n",
    "model"
   ]
  },
  {
   "cell_type": "code",
   "execution_count": null,
   "id": "23e13021-200f-4adc-9f70-72e61dbfa098",
   "metadata": {},
   "outputs": [],
   "source": [
    "cap = cv2.VideoCapture(0)"
   ]
  },
  {
   "cell_type": "code",
   "execution_count": null,
   "id": "46a38ae0-5fb5-4bea-9d38-8edb180474cf",
   "metadata": {},
   "outputs": [],
   "source": [
    "while(True):\n",
    "    if not cap.isOpened():\n",
    "        print(\"웹캠 사용 불가\")\n",
    "        break\n",
    "    \n",
    "    ret,frame=cap.read()\n",
    "    \n",
    "    if ret==False:\n",
    "        print(\"프레임 읽을수 없다\")\n",
    "        break\n",
    "    results = model.predict(source=frame, conf=0.5, imgsz=640, verbose=False)\n",
    "    annotated_frame = results[0].plot()\n",
    "\n",
    "    cv2.imshow(\"YOLO Detection\", annotated_frame)\n",
    "    if cv2.waitKey(1) == ord('q'):\n",
    "        break\n",
    "cap.release()\n",
    "cv2.destroyAllWindows()"
   ]
  },
  {
   "cell_type": "code",
   "execution_count": null,
   "id": "2c2c40fc-72f8-418e-90a3-1b0af226fbbf",
   "metadata": {},
   "outputs": [],
   "source": []
  }
 ],
 "metadata": {
  "kernelspec": {
   "display_name": "Python 3 (ipykernel)",
   "language": "python",
   "name": "python3"
  },
  "language_info": {
   "codemirror_mode": {
    "name": "ipython",
    "version": 3
   },
   "file_extension": ".py",
   "mimetype": "text/x-python",
   "name": "python",
   "nbconvert_exporter": "python",
   "pygments_lexer": "ipython3",
   "version": "3.11.0"
  }
 },
 "nbformat": 4,
 "nbformat_minor": 5
}
