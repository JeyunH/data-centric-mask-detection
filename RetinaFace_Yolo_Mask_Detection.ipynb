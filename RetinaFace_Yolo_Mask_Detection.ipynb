{
 "cells": [
  {
   "cell_type": "code",
   "execution_count": null,
   "id": "c4ddb60c-06a2-4478-bb9d-d3bd8e1ce298",
   "metadata": {},
   "outputs": [],
   "source": [
    "!pip install opencv-python\n",
    "import cv2\n",
    "from ultralytics import YOLO\n",
    "# 모델 로드\n",
    "model_path = r\"C:\\ai_project01\\results\\mask_detection\\weights\\best.pt\"\n",
    "model = YOLO(model_path)\n",
    "# 웹캠 연결\n",
    "cap = cv2.VideoCapture(0)\n",
    "print(\":흰색_확인_표시: 실시간 마스크 탐지를 시작합니다. 'q'를 누르면 종료됩니다.\")\n",
    "while True:\n",
    "    if not cap.isOpened():\n",
    "        print(\":x: 웹캠을 열 수 없습니다.\")\n",
    "        break\n",
    "    # 프레임 읽기\n",
    "    ret, frame = cap.read()\n",
    "    if not ret:\n",
    "        print(\":x: 프레임을 읽을 수 없습니다.\")\n",
    "        break\n",
    "    # YOLO 추론\n",
    "    results = model.predict(source=frame, conf=0.5, imgsz=640, verbose=False)\n",
    "    # 결과 이미지 그리기\n",
    "    annotated_frame = results[0].plot()\n",
    "    # 이미지 출력\n",
    "    cv2.imshow(\"Mask Detection (YOLO plot 사용)\", annotated_frame)\n",
    "    # 종료 키 확인\n",
    "    if cv2.waitKey(1) == ord('q'):\n",
    "        break\n",
    "# 자원 해제\n",
    "cap.release()\n",
    "cv2.destroyAllWindows()"
   ]
  }
 ],
 "metadata": {
  "kernelspec": {
   "display_name": "Python 3 (ipykernel)",
   "language": "python",
   "name": "python3"
  },
  "language_info": {
   "codemirror_mode": {
    "name": "ipython",
    "version": 3
   },
   "file_extension": ".py",
   "mimetype": "text/x-python",
   "name": "python",
   "nbconvert_exporter": "python",
   "pygments_lexer": "ipython3",
   "version": "3.11.0"
  }
 },
 "nbformat": 4,
 "nbformat_minor": 5
}
