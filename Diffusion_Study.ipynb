{
 "cells": [
  {
   "cell_type": "code",
   "execution_count": null,
   "id": "ec68e5d4-0312-453b-bf4c-797b84f83489",
   "metadata": {},
   "outputs": [],
   "source": [
    "!pip install --upgrade diffusers\n",
    "!pip install --upgrade transformers\n",
    "!pip install --upgrade accelerate\n",
    "!pip install --upgrade safetensors"
   ]
  },
  {
   "cell_type": "code",
   "execution_count": null,
   "id": "c0a4825b-3095-4ca8-91ee-6b98234bb1fb",
   "metadata": {},
   "outputs": [],
   "source": [
    "import torch\n",
    "from diffusers import StableDiffusionPipeline\n",
    "import os\n",
    "huggingface_token = \"INPUT_YOUR_TOKEN\"\n",
    "\n",
    "pipe = StableDiffusionPipeline.from_pretrained(\n",
    "    \"Lykon/dreamshaper-8\",\n",
    "    torch_dtype=torch.float16,\n",
    "    use_auth_token=huggingface_token\n",
    ").to(\"cuda\")"
   ]
  },
  {
   "cell_type": "code",
   "execution_count": null,
   "id": "610103b6-247a-4f03-9065-0eb051d4646e",
   "metadata": {},
   "outputs": [],
   "source": [
    "prompt = \"a realistic portrait of an adult wearing a white surgical mask, casual clothing, standing outdoors during the day, natural lighting, neutral background, photorealistic, ultra-detailed, realistic proportions, average person\"\n",
    "#negative_prompt = \"\"\n",
    "\n",
    "num_images = 20\n",
    "batch_size = 7\n",
    "output_folder = \"masked_man\"\n",
    "os.makedirs(output_folder, exist_ok=True)\n",
    "for images_idx in range(0, num_images, batch_size):\n",
    "    print(\"=\" *100)\n",
    "    print(\"images_idx=\", images_idx)\n",
    "    current_batch_size = min(batch_size, num_images - images_idx)\n",
    "    print(\"current_batch_size=\", current_batch_size)\n",
    "\n",
    "    images = pipe(\n",
    "        prompt=prompt,\n",
    "        #negative_prompt=negative_prompt,\n",
    "        num_inference_steps=15,\n",
    "        guidance_scale=7,\n",
    "        height=768,\n",
    "        width=768,\n",
    "        num_images_per_prompt=current_batch_size\n",
    "    ).images\n",
    "\n",
    "    for i, img in enumerate(images):\n",
    "        image_number = images_idx + i + 1\n",
    "        img.save(f\"{output_folder}/masked_man_{image_number:02}.png\")\n",
    "        print(f\"이미지 저장 완료: {output_folder}/masked_man_{image_number:02}.png\")\n",
    "                "
   ]
  },
  {
   "cell_type": "code",
   "execution_count": null,
   "id": "7a1af01b-ab9d-41af-9832-af189aebf429",
   "metadata": {},
   "outputs": [],
   "source": []
  }
 ],
 "metadata": {
  "kernelspec": {
   "display_name": "Python 3 (ipykernel)",
   "language": "python",
   "name": "python3"
  },
  "language_info": {
   "codemirror_mode": {
    "name": "ipython",
    "version": 3
   },
   "file_extension": ".py",
   "mimetype": "text/x-python",
   "name": "python",
   "nbconvert_exporter": "python",
   "pygments_lexer": "ipython3",
   "version": "3.11.0"
  }
 },
 "nbformat": 4,
 "nbformat_minor": 5
}
